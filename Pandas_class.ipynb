{
 "cells": [
  {
   "cell_type": "code",
   "execution_count": 4,
   "metadata": {},
   "outputs": [],
   "source": [
    "import pandas as pd"
   ]
  },
  {
   "cell_type": "markdown",
   "metadata": {},
   "source": [
    "## Pandas"
   ]
  },
  {
   "cell_type": "markdown",
   "metadata": {},
   "source": [
    "## Task 1: Setup and DataFrame Creation"
   ]
  },
  {
   "cell_type": "code",
   "execution_count": 2,
   "metadata": {},
   "outputs": [
    {
     "name": "stdout",
     "output_type": "stream",
     "text": [
      "{'name': ['Rohit', 'john', 'priya', 'binita'], 'ages': [25, 45, 23, 28]}\n"
     ]
    },
    {
     "data": {
      "text/html": [
       "<div>\n",
       "<style scoped>\n",
       "    .dataframe tbody tr th:only-of-type {\n",
       "        vertical-align: middle;\n",
       "    }\n",
       "\n",
       "    .dataframe tbody tr th {\n",
       "        vertical-align: top;\n",
       "    }\n",
       "\n",
       "    .dataframe thead th {\n",
       "        text-align: right;\n",
       "    }\n",
       "</style>\n",
       "<table border=\"1\" class=\"dataframe\">\n",
       "  <thead>\n",
       "    <tr style=\"text-align: right;\">\n",
       "      <th></th>\n",
       "      <th>name</th>\n",
       "      <th>ages</th>\n",
       "    </tr>\n",
       "  </thead>\n",
       "  <tbody>\n",
       "    <tr>\n",
       "      <th>0</th>\n",
       "      <td>Rohit</td>\n",
       "      <td>25</td>\n",
       "    </tr>\n",
       "    <tr>\n",
       "      <th>1</th>\n",
       "      <td>john</td>\n",
       "      <td>45</td>\n",
       "    </tr>\n",
       "    <tr>\n",
       "      <th>2</th>\n",
       "      <td>priya</td>\n",
       "      <td>23</td>\n",
       "    </tr>\n",
       "    <tr>\n",
       "      <th>3</th>\n",
       "      <td>binita</td>\n",
       "      <td>28</td>\n",
       "    </tr>\n",
       "  </tbody>\n",
       "</table>\n",
       "</div>"
      ],
      "text/plain": [
       "     name  ages\n",
       "0   Rohit    25\n",
       "1    john    45\n",
       "2   priya    23\n",
       "3  binita    28"
      ]
     },
     "execution_count": 2,
     "metadata": {},
     "output_type": "execute_result"
    }
   ],
   "source": [
    "# Creating DataFrame from a dictionary\n",
    "dict_1 = {\n",
    "    'name':['Rohit','john','priya','binita'],\n",
    "    'ages':[25,45,23,28]\n",
    "}\n",
    "print(dict_1)\n",
    "\n",
    "df = pd.DataFrame(dict_1)\n",
    "df"
   ]
  },
  {
   "cell_type": "code",
   "execution_count": 3,
   "metadata": {},
   "outputs": [
    {
     "name": "stdout",
     "output_type": "stream",
     "text": [
      "[{'Name': 'Binita', 'Age': 29}, {'Name': 'Prabin', 'Age': 30}]\n"
     ]
    },
    {
     "data": {
      "text/html": [
       "<div>\n",
       "<style scoped>\n",
       "    .dataframe tbody tr th:only-of-type {\n",
       "        vertical-align: middle;\n",
       "    }\n",
       "\n",
       "    .dataframe tbody tr th {\n",
       "        vertical-align: top;\n",
       "    }\n",
       "\n",
       "    .dataframe thead th {\n",
       "        text-align: right;\n",
       "    }\n",
       "</style>\n",
       "<table border=\"1\" class=\"dataframe\">\n",
       "  <thead>\n",
       "    <tr style=\"text-align: right;\">\n",
       "      <th></th>\n",
       "      <th>Name</th>\n",
       "      <th>Age</th>\n",
       "    </tr>\n",
       "  </thead>\n",
       "  <tbody>\n",
       "    <tr>\n",
       "      <th>0</th>\n",
       "      <td>Binita</td>\n",
       "      <td>29</td>\n",
       "    </tr>\n",
       "    <tr>\n",
       "      <th>1</th>\n",
       "      <td>Prabin</td>\n",
       "      <td>30</td>\n",
       "    </tr>\n",
       "  </tbody>\n",
       "</table>\n",
       "</div>"
      ],
      "text/plain": [
       "     Name  Age\n",
       "0  Binita   29\n",
       "1  Prabin   30"
      ]
     },
     "execution_count": 3,
     "metadata": {},
     "output_type": "execute_result"
    }
   ],
   "source": [
    "# Creating DataFrames from a list of dictionaries\n",
    "data =[{'Name':'Binita','Age':29}, {'Name':'Prabin', 'Age':30}]\n",
    "print(data)\n",
    "\n",
    "df = pd.DataFrame(data)\n",
    "df"
   ]
  },
  {
   "cell_type": "code",
   "execution_count": 4,
   "metadata": {},
   "outputs": [
    {
     "name": "stdout",
     "output_type": "stream",
     "text": [
      "                  Name   Age                     Email            Country  \\\n",
      "0              invalid  59.0       ycastro@example.org        Switzerland   \n",
      "1      David Jefferson  21.0                       NaN              China   \n",
      "2        Jessica Reyes  34.0                       NaN                NaN   \n",
      "3    Kenneth Macdonald  68.0         ewolf@example.com              Italy   \n",
      "4          Julie Horne  78.0                       NaN            Ecuador   \n",
      "..                 ...   ...                       ...                ...   \n",
      "95    Garrett Davidson  56.0        gjames@example.com    Solomon Islands   \n",
      "96      Elizabeth Ross  52.0  richardlewis@example.net  Equatorial Guinea   \n",
      "97                 NaN  72.0       brian50@example.com            Somalia   \n",
      "98      Patricia Singh  65.0      lramirez@example.org             Greece   \n",
      "99  Christopher Stokes  42.0                       NaN       South Africa   \n",
      "\n",
      "      Salary DateOfJoining  \n",
      "0   44694.24    2022-09-29  \n",
      "1        NaN    2021-10-04  \n",
      "2   60511.62    2022-05-24  \n",
      "3   84223.29    2022-04-07  \n",
      "4   24665.13    2020-06-19  \n",
      "..       ...           ...  \n",
      "95  86227.88           NaN  \n",
      "96  29992.69    2020-04-08  \n",
      "97  90628.22    2020-04-11  \n",
      "98  85290.44    2020-03-18  \n",
      "99  20289.17    2021-09-23  \n",
      "\n",
      "[100 rows x 6 columns]\n"
     ]
    },
    {
     "data": {
      "text/html": [
       "<div>\n",
       "<style scoped>\n",
       "    .dataframe tbody tr th:only-of-type {\n",
       "        vertical-align: middle;\n",
       "    }\n",
       "\n",
       "    .dataframe tbody tr th {\n",
       "        vertical-align: top;\n",
       "    }\n",
       "\n",
       "    .dataframe thead th {\n",
       "        text-align: right;\n",
       "    }\n",
       "</style>\n",
       "<table border=\"1\" class=\"dataframe\">\n",
       "  <thead>\n",
       "    <tr style=\"text-align: right;\">\n",
       "      <th></th>\n",
       "      <th>Name</th>\n",
       "      <th>Age</th>\n",
       "      <th>Email</th>\n",
       "      <th>Country</th>\n",
       "      <th>Salary</th>\n",
       "      <th>DateOfJoining</th>\n",
       "    </tr>\n",
       "  </thead>\n",
       "  <tbody>\n",
       "    <tr>\n",
       "      <th>0</th>\n",
       "      <td>invalid</td>\n",
       "      <td>59.0</td>\n",
       "      <td>ycastro@example.org</td>\n",
       "      <td>Switzerland</td>\n",
       "      <td>44694.24</td>\n",
       "      <td>2022-09-29</td>\n",
       "    </tr>\n",
       "    <tr>\n",
       "      <th>1</th>\n",
       "      <td>David Jefferson</td>\n",
       "      <td>21.0</td>\n",
       "      <td>NaN</td>\n",
       "      <td>China</td>\n",
       "      <td>NaN</td>\n",
       "      <td>2021-10-04</td>\n",
       "    </tr>\n",
       "    <tr>\n",
       "      <th>2</th>\n",
       "      <td>Jessica Reyes</td>\n",
       "      <td>34.0</td>\n",
       "      <td>NaN</td>\n",
       "      <td>NaN</td>\n",
       "      <td>60511.62</td>\n",
       "      <td>2022-05-24</td>\n",
       "    </tr>\n",
       "    <tr>\n",
       "      <th>3</th>\n",
       "      <td>Kenneth Macdonald</td>\n",
       "      <td>68.0</td>\n",
       "      <td>ewolf@example.com</td>\n",
       "      <td>Italy</td>\n",
       "      <td>84223.29</td>\n",
       "      <td>2022-04-07</td>\n",
       "    </tr>\n",
       "    <tr>\n",
       "      <th>4</th>\n",
       "      <td>Julie Horne</td>\n",
       "      <td>78.0</td>\n",
       "      <td>NaN</td>\n",
       "      <td>Ecuador</td>\n",
       "      <td>24665.13</td>\n",
       "      <td>2020-06-19</td>\n",
       "    </tr>\n",
       "    <tr>\n",
       "      <th>...</th>\n",
       "      <td>...</td>\n",
       "      <td>...</td>\n",
       "      <td>...</td>\n",
       "      <td>...</td>\n",
       "      <td>...</td>\n",
       "      <td>...</td>\n",
       "    </tr>\n",
       "    <tr>\n",
       "      <th>95</th>\n",
       "      <td>Garrett Davidson</td>\n",
       "      <td>56.0</td>\n",
       "      <td>gjames@example.com</td>\n",
       "      <td>Solomon Islands</td>\n",
       "      <td>86227.88</td>\n",
       "      <td>NaN</td>\n",
       "    </tr>\n",
       "    <tr>\n",
       "      <th>96</th>\n",
       "      <td>Elizabeth Ross</td>\n",
       "      <td>52.0</td>\n",
       "      <td>richardlewis@example.net</td>\n",
       "      <td>Equatorial Guinea</td>\n",
       "      <td>29992.69</td>\n",
       "      <td>2020-04-08</td>\n",
       "    </tr>\n",
       "    <tr>\n",
       "      <th>97</th>\n",
       "      <td>NaN</td>\n",
       "      <td>72.0</td>\n",
       "      <td>brian50@example.com</td>\n",
       "      <td>Somalia</td>\n",
       "      <td>90628.22</td>\n",
       "      <td>2020-04-11</td>\n",
       "    </tr>\n",
       "    <tr>\n",
       "      <th>98</th>\n",
       "      <td>Patricia Singh</td>\n",
       "      <td>65.0</td>\n",
       "      <td>lramirez@example.org</td>\n",
       "      <td>Greece</td>\n",
       "      <td>85290.44</td>\n",
       "      <td>2020-03-18</td>\n",
       "    </tr>\n",
       "    <tr>\n",
       "      <th>99</th>\n",
       "      <td>Christopher Stokes</td>\n",
       "      <td>42.0</td>\n",
       "      <td>NaN</td>\n",
       "      <td>South Africa</td>\n",
       "      <td>20289.17</td>\n",
       "      <td>2021-09-23</td>\n",
       "    </tr>\n",
       "  </tbody>\n",
       "</table>\n",
       "<p>100 rows × 6 columns</p>\n",
       "</div>"
      ],
      "text/plain": [
       "                  Name   Age                     Email            Country  \\\n",
       "0              invalid  59.0       ycastro@example.org        Switzerland   \n",
       "1      David Jefferson  21.0                       NaN              China   \n",
       "2        Jessica Reyes  34.0                       NaN                NaN   \n",
       "3    Kenneth Macdonald  68.0         ewolf@example.com              Italy   \n",
       "4          Julie Horne  78.0                       NaN            Ecuador   \n",
       "..                 ...   ...                       ...                ...   \n",
       "95    Garrett Davidson  56.0        gjames@example.com    Solomon Islands   \n",
       "96      Elizabeth Ross  52.0  richardlewis@example.net  Equatorial Guinea   \n",
       "97                 NaN  72.0       brian50@example.com            Somalia   \n",
       "98      Patricia Singh  65.0      lramirez@example.org             Greece   \n",
       "99  Christopher Stokes  42.0                       NaN       South Africa   \n",
       "\n",
       "      Salary DateOfJoining  \n",
       "0   44694.24    2022-09-29  \n",
       "1        NaN    2021-10-04  \n",
       "2   60511.62    2022-05-24  \n",
       "3   84223.29    2022-04-07  \n",
       "4   24665.13    2020-06-19  \n",
       "..       ...           ...  \n",
       "95  86227.88           NaN  \n",
       "96  29992.69    2020-04-08  \n",
       "97  90628.22    2020-04-11  \n",
       "98  85290.44    2020-03-18  \n",
       "99  20289.17    2021-09-23  \n",
       "\n",
       "[100 rows x 6 columns]"
      ]
     },
     "execution_count": 4,
     "metadata": {},
     "output_type": "execute_result"
    }
   ],
   "source": [
    "# # Load a dataset from a CSV file\n",
    "dict_2 = pd.read_csv(\"messed_dataset.csv\")\n",
    "print(dict_2)\n",
    "df = pd.DataFrame(dict_2)\n",
    "df"
   ]
  },
  {
   "cell_type": "markdown",
   "metadata": {},
   "source": [
    "## Task 2: Viewing and Inspecting Data"
   ]
  },
  {
   "cell_type": "code",
   "execution_count": 5,
   "metadata": {},
   "outputs": [
    {
     "name": "stdout",
     "output_type": "stream",
     "text": [
      "                Name   Age                Email      Country    Salary  \\\n",
      "0            invalid  59.0  ycastro@example.org  Switzerland  44694.24   \n",
      "1    David Jefferson  21.0                  NaN        China       NaN   \n",
      "2      Jessica Reyes  34.0                  NaN          NaN  60511.62   \n",
      "3  Kenneth Macdonald  68.0    ewolf@example.com        Italy  84223.29   \n",
      "4        Julie Horne  78.0                  NaN      Ecuador  24665.13   \n",
      "\n",
      "  DateOfJoining  \n",
      "0    2022-09-29  \n",
      "1    2021-10-04  \n",
      "2    2022-05-24  \n",
      "3    2022-04-07  \n",
      "4    2020-06-19  \n",
      "              Name   Age                Email      Country    Salary  \\\n",
      "0          invalid  59.0  ycastro@example.org  Switzerland  44694.24   \n",
      "1  David Jefferson  21.0                  NaN        China       NaN   \n",
      "\n",
      "  DateOfJoining  \n",
      "0    2022-09-29  \n",
      "1    2021-10-04  \n"
     ]
    }
   ],
   "source": [
    " # Display the first few rows of the DataFrame.(By default give first 5 rows)\n",
    "print(dict_2.head())\n",
    "print(dict_2.head(2)) # first two ros is displayed"
   ]
  },
  {
   "cell_type": "code",
   "execution_count": 6,
   "metadata": {},
   "outputs": [
    {
     "name": "stdout",
     "output_type": "stream",
     "text": [
      "                  Name   Age                     Email            Country  \\\n",
      "95    Garrett Davidson  56.0        gjames@example.com    Solomon Islands   \n",
      "96      Elizabeth Ross  52.0  richardlewis@example.net  Equatorial Guinea   \n",
      "97                 NaN  72.0       brian50@example.com            Somalia   \n",
      "98      Patricia Singh  65.0      lramirez@example.org             Greece   \n",
      "99  Christopher Stokes  42.0                       NaN       South Africa   \n",
      "\n",
      "      Salary DateOfJoining  \n",
      "95  86227.88           NaN  \n",
      "96  29992.69    2020-04-08  \n",
      "97  90628.22    2020-04-11  \n",
      "98  85290.44    2020-03-18  \n",
      "99  20289.17    2021-09-23  \n",
      "                  Name   Age                     Email            Country  \\\n",
      "95    Garrett Davidson  56.0        gjames@example.com    Solomon Islands   \n",
      "96      Elizabeth Ross  52.0  richardlewis@example.net  Equatorial Guinea   \n",
      "97                 NaN  72.0       brian50@example.com            Somalia   \n",
      "98      Patricia Singh  65.0      lramirez@example.org             Greece   \n",
      "99  Christopher Stokes  42.0                       NaN       South Africa   \n",
      "\n",
      "      Salary DateOfJoining  \n",
      "95  86227.88           NaN  \n",
      "96  29992.69    2020-04-08  \n",
      "97  90628.22    2020-04-11  \n",
      "98  85290.44    2020-03-18  \n",
      "99  20289.17    2021-09-23  \n"
     ]
    }
   ],
   "source": [
    "#  Display the last few rows of the DataFrame\n",
    "print(dict_2.tail())\n",
    "print(dict_2.tail(5)) # last 7 rows in displayed"
   ]
  },
  {
   "cell_type": "code",
   "execution_count": 7,
   "metadata": {},
   "outputs": [
    {
     "name": "stdout",
     "output_type": "stream",
     "text": [
      "<class 'pandas.core.frame.DataFrame'>\n",
      "RangeIndex: 100 entries, 0 to 99\n",
      "Data columns (total 6 columns):\n",
      " #   Column         Non-Null Count  Dtype \n",
      "---  ------         --------------  ----- \n",
      " 0   Name           89 non-null     object\n",
      " 1   Age            97 non-null     object\n",
      " 2   Email          80 non-null     object\n",
      " 3   Country        86 non-null     object\n",
      " 4   Salary         94 non-null     object\n",
      " 5   DateOfJoining  79 non-null     object\n",
      "dtypes: object(6)\n",
      "memory usage: 4.8+ KB\n",
      "None\n"
     ]
    }
   ],
   "source": [
    " # Get a summary of the DataFrame\n",
    "print(dict_2.info())"
   ]
  },
  {
   "cell_type": "code",
   "execution_count": 8,
   "metadata": {},
   "outputs": [
    {
     "data": {
      "text/html": [
       "<div>\n",
       "<style scoped>\n",
       "    .dataframe tbody tr th:only-of-type {\n",
       "        vertical-align: middle;\n",
       "    }\n",
       "\n",
       "    .dataframe tbody tr th {\n",
       "        vertical-align: top;\n",
       "    }\n",
       "\n",
       "    .dataframe thead th {\n",
       "        text-align: right;\n",
       "    }\n",
       "</style>\n",
       "<table border=\"1\" class=\"dataframe\">\n",
       "  <thead>\n",
       "    <tr style=\"text-align: right;\">\n",
       "      <th></th>\n",
       "      <th>Name</th>\n",
       "      <th>Age</th>\n",
       "      <th>Email</th>\n",
       "      <th>Country</th>\n",
       "      <th>Salary</th>\n",
       "      <th>DateOfJoining</th>\n",
       "    </tr>\n",
       "  </thead>\n",
       "  <tbody>\n",
       "    <tr>\n",
       "      <th>count</th>\n",
       "      <td>89</td>\n",
       "      <td>97</td>\n",
       "      <td>80</td>\n",
       "      <td>86</td>\n",
       "      <td>94</td>\n",
       "      <td>79</td>\n",
       "    </tr>\n",
       "    <tr>\n",
       "      <th>unique</th>\n",
       "      <td>85</td>\n",
       "      <td>53</td>\n",
       "      <td>80</td>\n",
       "      <td>76</td>\n",
       "      <td>93</td>\n",
       "      <td>79</td>\n",
       "    </tr>\n",
       "    <tr>\n",
       "      <th>top</th>\n",
       "      <td>invalid</td>\n",
       "      <td>76.0</td>\n",
       "      <td>ycastro@example.org</td>\n",
       "      <td>China</td>\n",
       "      <td>invalid</td>\n",
       "      <td>2022-09-29</td>\n",
       "    </tr>\n",
       "    <tr>\n",
       "      <th>freq</th>\n",
       "      <td>5</td>\n",
       "      <td>6</td>\n",
       "      <td>1</td>\n",
       "      <td>2</td>\n",
       "      <td>2</td>\n",
       "      <td>1</td>\n",
       "    </tr>\n",
       "  </tbody>\n",
       "</table>\n",
       "</div>"
      ],
      "text/plain": [
       "           Name   Age                Email Country   Salary DateOfJoining\n",
       "count        89    97                   80      86       94            79\n",
       "unique       85    53                   80      76       93            79\n",
       "top     invalid  76.0  ycastro@example.org   China  invalid    2022-09-29\n",
       "freq          5     6                    1       2        2             1"
      ]
     },
     "execution_count": 8,
     "metadata": {},
     "output_type": "execute_result"
    }
   ],
   "source": [
    "# Describe the summary statistics of the data(Decsibe only the integer value)\n",
    "dict_2.describe()"
   ]
  },
  {
   "cell_type": "code",
   "execution_count": 9,
   "metadata": {},
   "outputs": [
    {
     "name": "stdout",
     "output_type": "stream",
     "text": [
      "(100, 6)\n"
     ]
    }
   ],
   "source": [
    "# Display the shape and column names of the DataFrame.\n",
    "print(dict_2.shape)"
   ]
  },
  {
   "cell_type": "code",
   "execution_count": 10,
   "metadata": {},
   "outputs": [
    {
     "name": "stdout",
     "output_type": "stream",
     "text": [
      "Index(['Name', 'Age', 'Email', 'Country', 'Salary', 'DateOfJoining'], dtype='object')\n"
     ]
    }
   ],
   "source": [
    "print(dict_2.columns)"
   ]
  },
  {
   "cell_type": "markdown",
   "metadata": {},
   "source": [
    "## Task 3: Selection and Indexing"
   ]
  },
  {
   "cell_type": "code",
   "execution_count": 11,
   "metadata": {},
   "outputs": [
    {
     "data": {
      "text/plain": [
       "0     59.0\n",
       "1     21.0\n",
       "2     34.0\n",
       "3     68.0\n",
       "4     78.0\n",
       "      ... \n",
       "95    56.0\n",
       "96    52.0\n",
       "97    72.0\n",
       "98    65.0\n",
       "99    42.0\n",
       "Name: Age, Length: 100, dtype: object"
      ]
     },
     "execution_count": 11,
     "metadata": {},
     "output_type": "execute_result"
    }
   ],
   "source": [
    "# selecting single columns\n",
    "dict_2['Age']"
   ]
  },
  {
   "cell_type": "code",
   "execution_count": 12,
   "metadata": {},
   "outputs": [
    {
     "name": "stdout",
     "output_type": "stream",
     "text": [
      "                  Name   Age\n",
      "0              invalid  59.0\n",
      "1      David Jefferson  21.0\n",
      "2        Jessica Reyes  34.0\n",
      "3    Kenneth Macdonald  68.0\n",
      "4          Julie Horne  78.0\n",
      "..                 ...   ...\n",
      "95    Garrett Davidson  56.0\n",
      "96      Elizabeth Ross  52.0\n",
      "97                 NaN  72.0\n",
      "98      Patricia Singh  65.0\n",
      "99  Christopher Stokes  42.0\n",
      "\n",
      "[100 rows x 2 columns]\n"
     ]
    }
   ],
   "source": [
    "# Selecting Multiple Columns\n",
    "print(dict_2[[\"Name\", \"Age\"]])\n"
   ]
  },
  {
   "cell_type": "code",
   "execution_count": 13,
   "metadata": {},
   "outputs": [
    {
     "data": {
      "text/plain": [
       "Name                         invalid\n",
       "Age                             59.0\n",
       "Email            ycastro@example.org\n",
       "Country                  Switzerland\n",
       "Salary                      44694.24\n",
       "DateOfJoining             2022-09-29\n",
       "Name: 0, dtype: object"
      ]
     },
     "execution_count": 13,
     "metadata": {},
     "output_type": "execute_result"
    }
   ],
   "source": [
    "#selecting rows by index\n",
    "dict_2.iloc[0]"
   ]
  },
  {
   "cell_type": "code",
   "execution_count": 14,
   "metadata": {},
   "outputs": [
    {
     "data": {
      "text/html": [
       "<div>\n",
       "<style scoped>\n",
       "    .dataframe tbody tr th:only-of-type {\n",
       "        vertical-align: middle;\n",
       "    }\n",
       "\n",
       "    .dataframe tbody tr th {\n",
       "        vertical-align: top;\n",
       "    }\n",
       "\n",
       "    .dataframe thead th {\n",
       "        text-align: right;\n",
       "    }\n",
       "</style>\n",
       "<table border=\"1\" class=\"dataframe\">\n",
       "  <thead>\n",
       "    <tr style=\"text-align: right;\">\n",
       "      <th></th>\n",
       "      <th>Name</th>\n",
       "      <th>Age</th>\n",
       "      <th>Email</th>\n",
       "      <th>Country</th>\n",
       "      <th>Salary</th>\n",
       "      <th>DateOfJoining</th>\n",
       "    </tr>\n",
       "  </thead>\n",
       "  <tbody>\n",
       "    <tr>\n",
       "      <th>1</th>\n",
       "      <td>David Jefferson</td>\n",
       "      <td>21.0</td>\n",
       "      <td>NaN</td>\n",
       "      <td>China</td>\n",
       "      <td>NaN</td>\n",
       "      <td>2021-10-04</td>\n",
       "    </tr>\n",
       "    <tr>\n",
       "      <th>2</th>\n",
       "      <td>Jessica Reyes</td>\n",
       "      <td>34.0</td>\n",
       "      <td>NaN</td>\n",
       "      <td>NaN</td>\n",
       "      <td>60511.62</td>\n",
       "      <td>2022-05-24</td>\n",
       "    </tr>\n",
       "  </tbody>\n",
       "</table>\n",
       "</div>"
      ],
      "text/plain": [
       "              Name   Age Email Country    Salary DateOfJoining\n",
       "1  David Jefferson  21.0   NaN   China       NaN    2021-10-04\n",
       "2    Jessica Reyes  34.0   NaN     NaN  60511.62    2022-05-24"
      ]
     },
     "execution_count": 14,
     "metadata": {},
     "output_type": "execute_result"
    }
   ],
   "source": [
    "# Selecting the first two rows by Index\n",
    "dict_2.iloc[1:3]"
   ]
  },
  {
   "cell_type": "code",
   "execution_count": 15,
   "metadata": {},
   "outputs": [
    {
     "data": {
      "text/plain": [
       "'David Jefferson'"
      ]
     },
     "execution_count": 15,
     "metadata": {},
     "output_type": "execute_result"
    }
   ],
   "source": [
    "#selecting rows and columns by labels\n",
    "dict_2.loc[1, 'Name'] "
   ]
  },
  {
   "cell_type": "code",
   "execution_count": 16,
   "metadata": {},
   "outputs": [
    {
     "data": {
      "text/plain": [
       "0              invalid\n",
       "1      David Jefferson\n",
       "2        Jessica Reyes\n",
       "3    Kenneth Macdonald\n",
       "Name: Name, dtype: object"
      ]
     },
     "execution_count": 16,
     "metadata": {},
     "output_type": "execute_result"
    }
   ],
   "source": [
    "# selecting first 3 rows for the given columns\n",
    "dict_2.loc[:3, \"Name\"]"
   ]
  },
  {
   "cell_type": "markdown",
   "metadata": {},
   "source": [
    "## Task 4: Handling Missing Data"
   ]
  },
  {
   "cell_type": "code",
   "execution_count": 17,
   "metadata": {},
   "outputs": [
    {
     "data": {
      "text/plain": [
       "Name             11\n",
       "Age               3\n",
       "Email            20\n",
       "Country          14\n",
       "Salary            6\n",
       "DateOfJoining    21\n",
       "dtype: int64"
      ]
     },
     "execution_count": 17,
     "metadata": {},
     "output_type": "execute_result"
    }
   ],
   "source": [
    "#Identify missing values in the DataFrame.\n",
    "dict_2.isnull().sum()"
   ]
  },
  {
   "cell_type": "code",
   "execution_count": 18,
   "metadata": {},
   "outputs": [
    {
     "name": "stdout",
     "output_type": "stream",
     "text": [
      "Name             0\n",
      "Age              0\n",
      "Email            0\n",
      "Country          0\n",
      "Salary           0\n",
      "DateOfJoining    0\n",
      "dtype: int64\n"
     ]
    }
   ],
   "source": [
    "#Drop rows with missing values\n",
    "dict_2.dropna(inplace=True)\n",
    "print(dict_2.isnull().sum())"
   ]
  },
  {
   "cell_type": "code",
   "execution_count": 19,
   "metadata": {},
   "outputs": [],
   "source": [
    "#Fill missing values with a specified value.\n",
    "df.fillna(value = {\"Age\":0}, inplace = True)"
   ]
  },
  {
   "cell_type": "markdown",
   "metadata": {},
   "source": [
    "## Task 5: Data Operations"
   ]
  },
  {
   "cell_type": "code",
   "execution_count": 20,
   "metadata": {},
   "outputs": [],
   "source": [
    "#Add a new column to the DataFrame.\n",
    "dict_1['Income'] = [5000, 2000]\n"
   ]
  },
  {
   "cell_type": "code",
   "execution_count": 21,
   "metadata": {},
   "outputs": [],
   "source": [
    "# Delete a column from the DataFrame.\n",
    "df.drop(columns= ['Age'], inplace = True)"
   ]
  },
  {
   "cell_type": "code",
   "execution_count": 22,
   "metadata": {},
   "outputs": [
    {
     "name": "stdout",
     "output_type": "stream",
     "text": [
      "                Fisrt_Name      Age                        Email  \\\n",
      "0                  invalid     59.0          ycastro@example.org   \n",
      "3        Kenneth Macdonald     68.0            ewolf@example.com   \n",
      "5         Jonathan Holland     26.0     mayercaitlin@example.org   \n",
      "7         Kimberly Roberts     76.0          lmiller@example.org   \n",
      "9              Jason Perez     59.0    collinsedward@example.com   \n",
      "10           Olivia Strong     76.0  schultzpatricia@example.com   \n",
      "13          Jessica Rivera     73.0        fmitchell@example.net   \n",
      "15           Lauren Becker     30.0    watsonjeffrey@example.net   \n",
      "20           Dylan Simpson     46.0        jessica74@example.net   \n",
      "23              Karen Ward     56.0         daniel47@example.com   \n",
      "24              Amy Henson     80.0       tylerwatts@example.org   \n",
      "28           Ricardo Moody     76.0         xmorales@example.net   \n",
      "29          Stephanie Moss     61.0         qvaughan@example.com   \n",
      "35           Rebecca Davis     35.0  wallacejennifer@example.net   \n",
      "36         Keith Velazquez     22.0        charles82@example.net   \n",
      "37      Christopher Martin     40.0           tina11@example.com   \n",
      "40                 invalid     64.0         mjackson@example.org   \n",
      "43             James Davis  invalid         teresa22@example.com   \n",
      "44            Brandi White     35.0            mhall@example.net   \n",
      "49           Amber Mendoza     64.0        qrobinson@example.com   \n",
      "51          Whitney Graham     40.0       zrodriguez@example.org   \n",
      "52       Patrick Brown PhD     44.0          james16@example.net   \n",
      "58  Dr. Olivia Caldwell MD     76.0   hernandezjason@example.com   \n",
      "59             Diane Smith     57.0          david44@example.net   \n",
      "60          Thomas Navarro     50.0          psnyder@example.org   \n",
      "61          Terri Phillips     27.0     garyanderson@example.net   \n",
      "64           Andrew Bryant     43.0      jacobtorres@example.com   \n",
      "68           Justin Wright     29.0    elizabethreid@example.org   \n",
      "69        Michael Oconnell     19.0        fdelacruz@example.org   \n",
      "70        Christina Garcia     40.0        kathryn18@example.org   \n",
      "72            Morgan Brown     79.0           wsmith@example.org   \n",
      "73          Mitchell Smith     32.0          spierce@example.com   \n",
      "74          Whitney Garcia     70.0      tylergolden@example.com   \n",
      "78         Tabitha Delgado     74.0    lancewilliams@example.net   \n",
      "80            David Walker     43.0          linda84@example.net   \n",
      "81             Brandi Long     45.0            vford@example.com   \n",
      "82         Kristi Calderon     80.0         sharon04@example.com   \n",
      "83            Kendra Mason     47.0      megancarter@example.com   \n",
      "84           Debbie Romero     58.0      nathaniel61@example.net   \n",
      "85     Elizabeth Wilkinson     66.0     gailmcdonald@example.org   \n",
      "86           David Randall     74.0           cody30@example.net   \n",
      "87             Nancy Irwin     42.0      juliaweaver@example.net   \n",
      "88             Joel Martin     76.0        bjacobson@example.com   \n",
      "89            Lauren Jones     68.0      melissadyer@example.com   \n",
      "91          Ryan Middleton     42.0  mcconnellashley@example.net   \n",
      "92            Seth Bradley     76.0       melissakim@example.org   \n",
      "93           Alicia Miller     59.0         thomas45@example.net   \n",
      "94            Cody Jackson     48.0       jamieayers@example.net   \n",
      "96          Elizabeth Ross     52.0     richardlewis@example.net   \n",
      "98          Patricia Singh     65.0         lramirez@example.org   \n",
      "\n",
      "                                              Country    Salary DateOfJoining  \n",
      "0                                         Switzerland  44694.24    2022-09-29  \n",
      "3                                               Italy  84223.29    2022-04-07  \n",
      "5                                            Cameroon  25660.99    2023-05-01  \n",
      "7                                         Netherlands  58550.56    2023-07-08  \n",
      "9                                             Myanmar  20175.11    2024-04-11  \n",
      "10                                       South Africa  72362.02    2023-07-27  \n",
      "13                           Central African Republic  71261.36    2021-05-18  \n",
      "15                                              Malta   invalid    2020-01-13  \n",
      "20                                             Serbia   59670.5    2021-10-31  \n",
      "23                                              Congo   83580.8    2022-04-09  \n",
      "24                             Bosnia and Herzegovina  35390.77    2023-12-11  \n",
      "28                                            Bahrain  83514.58    2024-03-29  \n",
      "29                                           Guernsey  35671.38    2021-11-22  \n",
      "35                                          Sri Lanka  66871.64    2022-08-06  \n",
      "36                                       Burkina Faso  81661.97    2024-03-27  \n",
      "37                               Netherlands Antilles  81367.57    2020-07-30  \n",
      "40  British Indian Ocean Territory (Chagos Archipe...   25219.6    2024-02-14  \n",
      "43                                          Mauritius   54801.7    2021-07-15  \n",
      "44                                           Tanzania  21408.87    2020-11-26  \n",
      "49                                             Uganda  47293.85    2021-05-27  \n",
      "51                                         Mozambique  98826.59    2023-05-08  \n",
      "52                                             Greece   83842.6    2020-07-12  \n",
      "58                                        Philippines  78453.84    2023-07-19  \n",
      "59                                   Saint Barthelemy  86579.95    2020-07-27  \n",
      "60                           Turks and Caicos Islands  86286.69    2020-11-03  \n",
      "61                                           Cambodia  47755.97       invalid  \n",
      "64                                           Colombia  32205.53    2020-10-26  \n",
      "68                                        Timor-Leste  28951.24    2020-02-21  \n",
      "69                                            Grenada  62929.05    2022-01-21  \n",
      "70                                            invalid  73916.51    2023-11-13  \n",
      "72                                         Cape Verde  28583.22    2021-03-12  \n",
      "73                                            Armenia  57795.75    2021-04-19  \n",
      "74                               Netherlands Antilles  68794.39    2022-07-23  \n",
      "78                                              Sudan  98396.21    2022-04-03  \n",
      "80                                      Guinea-Bissau  89683.17    2021-06-20  \n",
      "81                                            Ecuador  30773.53    2020-06-29  \n",
      "82                                            Iceland  99507.66    2022-07-09  \n",
      "83                                            Moldova  34369.87    2023-07-09  \n",
      "84                                            Reunion  39875.14    2023-02-11  \n",
      "85                                       Turkmenistan  69624.01    2023-05-19  \n",
      "86                                               Niue  43013.14    2024-05-24  \n",
      "87                                     Czech Republic   29455.0    2020-07-21  \n",
      "88                                              Korea   invalid    2022-05-23  \n",
      "89                                             Malawi  42435.96    2020-06-12  \n",
      "91                                            Bahamas  78048.75    2021-04-05  \n",
      "92                         Slovakia (Slovak Republic)  49354.13    2021-08-01  \n",
      "93                                         Mauritania  52834.29    2020-06-03  \n",
      "94                                         Luxembourg  55583.62    2021-05-23  \n",
      "96                                  Equatorial Guinea  29992.69    2020-04-08  \n",
      "98                                             Greece  85290.44    2020-03-18  \n"
     ]
    }
   ],
   "source": [
    "#Rename columns from the DataFrame.\n",
    "dict_2.rename(columns= {\"Name\":\"Fisrt_Name\"}, inplace=True)\n",
    "print(dict_2)"
   ]
  },
  {
   "cell_type": "code",
   "execution_count": 23,
   "metadata": {},
   "outputs": [
    {
     "name": "stdout",
     "output_type": "stream",
     "text": [
      "                  Name                     Email            Country    Salary  \\\n",
      "0              invalid       ycastro@example.org        Switzerland  44694.24   \n",
      "1      David Jefferson                       NaN              China       NaN   \n",
      "2        Jessica Reyes                       NaN                NaN  60511.62   \n",
      "3    Kenneth Macdonald         ewolf@example.com              Italy  84223.29   \n",
      "4          Julie Horne                       NaN            Ecuador  24665.13   \n",
      "..                 ...                       ...                ...       ...   \n",
      "95    Garrett Davidson        gjames@example.com    Solomon Islands  86227.88   \n",
      "96      Elizabeth Ross  richardlewis@example.net  Equatorial Guinea  29992.69   \n",
      "97                 NaN       brian50@example.com            Somalia  90628.22   \n",
      "98      Patricia Singh      lramirez@example.org             Greece  85290.44   \n",
      "99  Christopher Stokes                       NaN       South Africa  20289.17   \n",
      "\n",
      "   DateOfJoining  \n",
      "0     2022-09-29  \n",
      "1     2021-10-04  \n",
      "2     2022-05-24  \n",
      "3     2022-04-07  \n",
      "4     2020-06-19  \n",
      "..           ...  \n",
      "95           NaN  \n",
      "96    2020-04-08  \n",
      "97    2020-04-11  \n",
      "98    2020-03-18  \n",
      "99    2021-09-23  \n",
      "\n",
      "[100 rows x 5 columns]\n"
     ]
    }
   ],
   "source": [
    "#Apply a function to a column.\n",
    "#Add  dependent to all\n",
    "dict_2['Age'] = dict_2['Age'].apply(lambda x: x + '1')\n",
    "print(df)"
   ]
  },
  {
   "cell_type": "markdown",
   "metadata": {},
   "source": [
    "## Task 6: GroupBy Operations"
   ]
  },
  {
   "cell_type": "code",
   "execution_count": 24,
   "metadata": {},
   "outputs": [
    {
     "data": {
      "text/html": [
       "<div>\n",
       "<style scoped>\n",
       "    .dataframe tbody tr th:only-of-type {\n",
       "        vertical-align: middle;\n",
       "    }\n",
       "\n",
       "    .dataframe tbody tr th {\n",
       "        vertical-align: top;\n",
       "    }\n",
       "\n",
       "    .dataframe thead th {\n",
       "        text-align: right;\n",
       "    }\n",
       "</style>\n",
       "<table border=\"1\" class=\"dataframe\">\n",
       "  <thead>\n",
       "    <tr style=\"text-align: right;\">\n",
       "      <th></th>\n",
       "      <th>Name</th>\n",
       "      <th>Age</th>\n",
       "      <th>Address</th>\n",
       "    </tr>\n",
       "  </thead>\n",
       "  <tbody>\n",
       "    <tr>\n",
       "      <th>0</th>\n",
       "      <td>Binita</td>\n",
       "      <td>23</td>\n",
       "      <td>Nepal</td>\n",
       "    </tr>\n",
       "    <tr>\n",
       "      <th>1</th>\n",
       "      <td>Joh</td>\n",
       "      <td>24</td>\n",
       "      <td>Australia</td>\n",
       "    </tr>\n",
       "    <tr>\n",
       "      <th>2</th>\n",
       "      <td>Hello</td>\n",
       "      <td>25</td>\n",
       "      <td>USA</td>\n",
       "    </tr>\n",
       "    <tr>\n",
       "      <th>3</th>\n",
       "      <td>Sriya</td>\n",
       "      <td>26</td>\n",
       "      <td>Germany</td>\n",
       "    </tr>\n",
       "  </tbody>\n",
       "</table>\n",
       "</div>"
      ],
      "text/plain": [
       "     Name  Age    Address\n",
       "0  Binita   23      Nepal\n",
       "1     Joh   24  Australia\n",
       "2   Hello   25        USA\n",
       "3   Sriya   26    Germany"
      ]
     },
     "execution_count": 24,
     "metadata": {},
     "output_type": "execute_result"
    }
   ],
   "source": [
    "# Group the DataFrame by a column \n",
    "data = {\"Name\":['Binita','Joh','Hello','Sriya'],\n",
    "        \"Age\": [23,24,25,26],\n",
    "        \"Address\":['Nepal', 'Australia','USA','Germany']\n",
    "        }\n",
    "df = pd.DataFrame(data)\n",
    "df"
   ]
  },
  {
   "cell_type": "code",
   "execution_count": 25,
   "metadata": {},
   "outputs": [
    {
     "data": {
      "text/plain": [
       "<pandas.core.groupby.generic.DataFrameGroupBy object at 0x0000020D94AACA90>"
      ]
     },
     "execution_count": 25,
     "metadata": {},
     "output_type": "execute_result"
    }
   ],
   "source": [
    "#Iterate over groups and display the group names and data.\n",
    "grouped = df.groupby('Name')\n",
    "grouped"
   ]
  },
  {
   "cell_type": "code",
   "execution_count": 26,
   "metadata": {},
   "outputs": [
    {
     "data": {
      "text/plain": [
       "Name\n",
       "Binita    23.0\n",
       "Hello     25.0\n",
       "Joh       24.0\n",
       "Sriya     26.0\n",
       "Name: Age, dtype: float64"
      ]
     },
     "execution_count": 26,
     "metadata": {},
     "output_type": "execute_result"
    }
   ],
   "source": [
    "#calculate summary statistics.\n",
    "mean_age= grouped['Age'].mean()\n",
    "mean_age"
   ]
  },
  {
   "cell_type": "markdown",
   "metadata": {},
   "source": [
    "## Task 7: Merging and Joining DataFrames"
   ]
  },
  {
   "cell_type": "code",
   "execution_count": 27,
   "metadata": {},
   "outputs": [
    {
     "data": {
      "text/html": [
       "<div>\n",
       "<style scoped>\n",
       "    .dataframe tbody tr th:only-of-type {\n",
       "        vertical-align: middle;\n",
       "    }\n",
       "\n",
       "    .dataframe tbody tr th {\n",
       "        vertical-align: top;\n",
       "    }\n",
       "\n",
       "    .dataframe thead th {\n",
       "        text-align: right;\n",
       "    }\n",
       "</style>\n",
       "<table border=\"1\" class=\"dataframe\">\n",
       "  <thead>\n",
       "    <tr style=\"text-align: right;\">\n",
       "      <th></th>\n",
       "      <th>A</th>\n",
       "      <th>B</th>\n",
       "    </tr>\n",
       "  </thead>\n",
       "  <tbody>\n",
       "    <tr>\n",
       "      <th>K0</th>\n",
       "      <td>A0</td>\n",
       "      <td>B1</td>\n",
       "    </tr>\n",
       "    <tr>\n",
       "      <th>K1</th>\n",
       "      <td>A1</td>\n",
       "      <td>B2</td>\n",
       "    </tr>\n",
       "    <tr>\n",
       "      <th>K2</th>\n",
       "      <td>A2</td>\n",
       "      <td>B3</td>\n",
       "    </tr>\n",
       "  </tbody>\n",
       "</table>\n",
       "</div>"
      ],
      "text/plain": [
       "     A   B\n",
       "K0  A0  B1\n",
       "K1  A1  B2\n",
       "K2  A2  B3"
      ]
     },
     "execution_count": 27,
     "metadata": {},
     "output_type": "execute_result"
    }
   ],
   "source": [
    "#Merge two DataFrames on a common column.\n",
    "df1 = pd.DataFrame({'A':['A0','A1','A2'],\n",
    "                   'B':['B1','B2','B3']\n",
    "                   }, index = ['K0','K1','K2'])\n",
    "df1"
   ]
  },
  {
   "cell_type": "code",
   "execution_count": 28,
   "metadata": {},
   "outputs": [
    {
     "data": {
      "text/html": [
       "<div>\n",
       "<style scoped>\n",
       "    .dataframe tbody tr th:only-of-type {\n",
       "        vertical-align: middle;\n",
       "    }\n",
       "\n",
       "    .dataframe tbody tr th {\n",
       "        vertical-align: top;\n",
       "    }\n",
       "\n",
       "    .dataframe thead th {\n",
       "        text-align: right;\n",
       "    }\n",
       "</style>\n",
       "<table border=\"1\" class=\"dataframe\">\n",
       "  <thead>\n",
       "    <tr style=\"text-align: right;\">\n",
       "      <th></th>\n",
       "      <th>C</th>\n",
       "      <th>D</th>\n",
       "    </tr>\n",
       "  </thead>\n",
       "  <tbody>\n",
       "    <tr>\n",
       "      <th>H0</th>\n",
       "      <td>C0</td>\n",
       "      <td>D1</td>\n",
       "    </tr>\n",
       "    <tr>\n",
       "      <th>H1</th>\n",
       "      <td>C1</td>\n",
       "      <td>D2</td>\n",
       "    </tr>\n",
       "    <tr>\n",
       "      <th>H2</th>\n",
       "      <td>C2</td>\n",
       "      <td>D3</td>\n",
       "    </tr>\n",
       "  </tbody>\n",
       "</table>\n",
       "</div>"
      ],
      "text/plain": [
       "     C   D\n",
       "H0  C0  D1\n",
       "H1  C1  D2\n",
       "H2  C2  D3"
      ]
     },
     "execution_count": 28,
     "metadata": {},
     "output_type": "execute_result"
    }
   ],
   "source": [
    "df2 = pd.DataFrame({'C':['C0','C1','C2'],\n",
    "                   'D':['D1','D2','D3']\n",
    "                   }, index = ['H0','H1','H2'])\n",
    "df2"
   ]
  },
  {
   "cell_type": "code",
   "execution_count": 29,
   "metadata": {},
   "outputs": [
    {
     "data": {
      "text/html": [
       "<div>\n",
       "<style scoped>\n",
       "    .dataframe tbody tr th:only-of-type {\n",
       "        vertical-align: middle;\n",
       "    }\n",
       "\n",
       "    .dataframe tbody tr th {\n",
       "        vertical-align: top;\n",
       "    }\n",
       "\n",
       "    .dataframe thead th {\n",
       "        text-align: right;\n",
       "    }\n",
       "</style>\n",
       "<table border=\"1\" class=\"dataframe\">\n",
       "  <thead>\n",
       "    <tr style=\"text-align: right;\">\n",
       "      <th></th>\n",
       "      <th>A</th>\n",
       "      <th>B</th>\n",
       "      <th>C</th>\n",
       "      <th>D</th>\n",
       "    </tr>\n",
       "  </thead>\n",
       "  <tbody>\n",
       "    <tr>\n",
       "      <th>K0</th>\n",
       "      <td>A0</td>\n",
       "      <td>B1</td>\n",
       "      <td>NaN</td>\n",
       "      <td>NaN</td>\n",
       "    </tr>\n",
       "    <tr>\n",
       "      <th>K1</th>\n",
       "      <td>A1</td>\n",
       "      <td>B2</td>\n",
       "      <td>NaN</td>\n",
       "      <td>NaN</td>\n",
       "    </tr>\n",
       "    <tr>\n",
       "      <th>K2</th>\n",
       "      <td>A2</td>\n",
       "      <td>B3</td>\n",
       "      <td>NaN</td>\n",
       "      <td>NaN</td>\n",
       "    </tr>\n",
       "  </tbody>\n",
       "</table>\n",
       "</div>"
      ],
      "text/plain": [
       "     A   B    C    D\n",
       "K0  A0  B1  NaN  NaN\n",
       "K1  A1  B2  NaN  NaN\n",
       "K2  A2  B3  NaN  NaN"
      ]
     },
     "execution_count": 29,
     "metadata": {},
     "output_type": "execute_result"
    }
   ],
   "source": [
    "#Join two DataFrames using their indices.\n",
    "joined_df = df1.join(df2)\n",
    "joined_df"
   ]
  },
  {
   "cell_type": "markdown",
   "metadata": {},
   "source": [
    "## Task 8: Working with Dates and Times"
   ]
  },
  {
   "cell_type": "code",
   "execution_count": 32,
   "metadata": {},
   "outputs": [
    {
     "name": "stdout",
     "output_type": "stream",
     "text": [
      "     Name  Age    Address       Date\n",
      "0  Binita   23      Nepal 2024-01-01\n",
      "1     Joh   24  Australia 2024-01-02\n",
      "2   Hello   25        USA 2024-01-03\n",
      "3   Sriya   26    Germany 2024-01-04\n"
     ]
    }
   ],
   "source": [
    "#Create a datetime index for the DataFrame.\n",
    "df[\"Date\"] = pd.date_range(start='1/1/2024', periods=len(df), freq=\"D\")\n",
    "print(df)"
   ]
  },
  {
   "cell_type": "code",
   "execution_count": 33,
   "metadata": {},
   "outputs": [
    {
     "name": "stdout",
     "output_type": "stream",
     "text": [
      "     Name  Age    Address       Date\n",
      "0  Binita   23      Nepal 2024-01-01\n",
      "1     Joh   24  Australia 2024-01-02\n",
      "2   Hello   25        USA 2024-01-03\n",
      "3   Sriya   26    Germany 2024-01-04\n"
     ]
    }
   ],
   "source": [
    "#Convert a column to datetime \n",
    "df[\"Date\"] = pd.to_datetime(df[\"Date\"])\n",
    "print(df)"
   ]
  },
  {
   "cell_type": "code",
   "execution_count": 34,
   "metadata": {},
   "outputs": [
    {
     "name": "stdout",
     "output_type": "stream",
     "text": [
      "<class 'pandas.core.frame.DataFrame'>\n",
      "RangeIndex: 4 entries, 0 to 3\n",
      "Data columns (total 4 columns):\n",
      " #   Column   Non-Null Count  Dtype         \n",
      "---  ------   --------------  -----         \n",
      " 0   Name     4 non-null      object        \n",
      " 1   Age      4 non-null      int64         \n",
      " 2   Address  4 non-null      object        \n",
      " 3   Date     4 non-null      datetime64[ns]\n",
      "dtypes: datetime64[ns](1), int64(1), object(2)\n",
      "memory usage: 256.0+ bytes\n"
     ]
    }
   ],
   "source": [
    "df.info()"
   ]
  },
  {
   "cell_type": "code",
   "execution_count": 38,
   "metadata": {},
   "outputs": [
    {
     "data": {
      "text/html": [
       "<div>\n",
       "<style scoped>\n",
       "    .dataframe tbody tr th:only-of-type {\n",
       "        vertical-align: middle;\n",
       "    }\n",
       "\n",
       "    .dataframe tbody tr th {\n",
       "        vertical-align: top;\n",
       "    }\n",
       "\n",
       "    .dataframe thead th {\n",
       "        text-align: right;\n",
       "    }\n",
       "</style>\n",
       "<table border=\"1\" class=\"dataframe\">\n",
       "  <thead>\n",
       "    <tr style=\"text-align: right;\">\n",
       "      <th></th>\n",
       "      <th>Name</th>\n",
       "      <th>Age</th>\n",
       "      <th>Address</th>\n",
       "      <th>Date</th>\n",
       "      <th>Year</th>\n",
       "      <th>Month</th>\n",
       "      <th>Day</th>\n",
       "    </tr>\n",
       "  </thead>\n",
       "  <tbody>\n",
       "    <tr>\n",
       "      <th>0</th>\n",
       "      <td>Binita</td>\n",
       "      <td>23</td>\n",
       "      <td>Nepal</td>\n",
       "      <td>2024-01-01</td>\n",
       "      <td>2024</td>\n",
       "      <td>1</td>\n",
       "      <td>1</td>\n",
       "    </tr>\n",
       "    <tr>\n",
       "      <th>1</th>\n",
       "      <td>Joh</td>\n",
       "      <td>24</td>\n",
       "      <td>Australia</td>\n",
       "      <td>2024-01-02</td>\n",
       "      <td>2024</td>\n",
       "      <td>1</td>\n",
       "      <td>2</td>\n",
       "    </tr>\n",
       "    <tr>\n",
       "      <th>2</th>\n",
       "      <td>Hello</td>\n",
       "      <td>25</td>\n",
       "      <td>USA</td>\n",
       "      <td>2024-01-03</td>\n",
       "      <td>2024</td>\n",
       "      <td>1</td>\n",
       "      <td>3</td>\n",
       "    </tr>\n",
       "    <tr>\n",
       "      <th>3</th>\n",
       "      <td>Sriya</td>\n",
       "      <td>26</td>\n",
       "      <td>Germany</td>\n",
       "      <td>2024-01-04</td>\n",
       "      <td>2024</td>\n",
       "      <td>1</td>\n",
       "      <td>4</td>\n",
       "    </tr>\n",
       "  </tbody>\n",
       "</table>\n",
       "</div>"
      ],
      "text/plain": [
       "     Name  Age    Address       Date  Year  Month  Day\n",
       "0  Binita   23      Nepal 2024-01-01  2024      1    1\n",
       "1     Joh   24  Australia 2024-01-02  2024      1    2\n",
       "2   Hello   25        USA 2024-01-03  2024      1    3\n",
       "3   Sriya   26    Germany 2024-01-04  2024      1    4"
      ]
     },
     "execution_count": 38,
     "metadata": {},
     "output_type": "execute_result"
    }
   ],
   "source": [
    "# extract date components.\n",
    "df['Year'] = df['Date'].dt.year\n",
    "df['Month'] = df['Date'].dt.month\n",
    "df['Day'] = df['Date'].dt.day\n",
    "df"
   ]
  },
  {
   "cell_type": "markdown",
   "metadata": {},
   "source": [
    "## Task 9: Input and Output"
   ]
  },
  {
   "cell_type": "code",
   "execution_count": 39,
   "metadata": {},
   "outputs": [],
   "source": [
    "#Write the DataFrame to a CSV file.\n",
    "df.to_csv('sample.csv', index = False) "
   ]
  },
  {
   "cell_type": "code",
   "execution_count": 51,
   "metadata": {},
   "outputs": [],
   "source": [
    " # Read data from an Excel file.\n",
    "# read_excel = pd.read_excel(\"SaleData.xlsx\")\n",
    "# excel_to_df = pd.DataFrame(read_excel)\n",
    "# print(excel_to_df)\n"
   ]
  },
  {
   "cell_type": "markdown",
   "metadata": {},
   "source": [
    "## Task 10: Visualization"
   ]
  },
  {
   "cell_type": "code",
   "execution_count": 6,
   "metadata": {},
   "outputs": [
    {
     "name": "stdout",
     "output_type": "stream",
     "text": [
      "Requirement already satisfied: matplotlib in c:\\users\\user\\anaconda3\\lib\\site-packages (3.3.2)\n",
      "Requirement already satisfied: certifi>=2020.06.20 in c:\\users\\user\\anaconda3\\lib\\site-packages (from matplotlib) (2020.6.20)\n",
      "Requirement already satisfied: kiwisolver>=1.0.1 in c:\\users\\user\\anaconda3\\lib\\site-packages (from matplotlib) (1.3.0)\n",
      "Requirement already satisfied: numpy>=1.15 in c:\\users\\user\\anaconda3\\lib\\site-packages (from matplotlib) (1.19.2)\n",
      "Requirement already satisfied: python-dateutil>=2.1 in c:\\users\\user\\anaconda3\\lib\\site-packages (from matplotlib) (2.8.1)\n",
      "Requirement already satisfied: pillow>=6.2.0 in c:\\users\\user\\anaconda3\\lib\\site-packages (from matplotlib) (8.0.1)\n",
      "Requirement already satisfied: cycler>=0.10 in c:\\users\\user\\anaconda3\\lib\\site-packages (from matplotlib) (0.10.0)\n",
      "Requirement already satisfied: pyparsing!=2.0.4,!=2.1.2,!=2.1.6,>=2.0.3 in c:\\users\\user\\anaconda3\\lib\\site-packages (from matplotlib) (2.4.7)\n",
      "Requirement already satisfied: six>=1.5 in c:\\users\\user\\anaconda3\\lib\\site-packages (from python-dateutil>=2.1->matplotlib) (1.15.0)\n"
     ]
    }
   ],
   "source": [
    "#Create a simple plot using Matplotlib.\n",
    "\n",
    "#install matplotlib\n",
    "\n",
    "! pip install matplotlib\n"
   ]
  },
  {
   "cell_type": "code",
   "execution_count": 1,
   "metadata": {},
   "outputs": [],
   "source": [
    "#Impoting matplotlib\n",
    "import matplotlib.pyplot as plt"
   ]
  },
  {
   "cell_type": "code",
   "execution_count": 2,
   "metadata": {},
   "outputs": [],
   "source": [
    "import seaborn as sns"
   ]
  },
  {
   "cell_type": "code",
   "execution_count": 5,
   "metadata": {},
   "outputs": [
    {
     "data": {
      "image/png": "[encoded data removed]",
      "text/plain": [
       "<Figure size 640x480 with 1 Axes>"
      ]
     },
     "metadata": {},
     "output_type": "display_data"
    }
   ],
   "source": [
    "# Data\n",
    "country = ['Nepal', 'Japan', 'US', 'Australia']\n",
    "population = [70000, 50000, 60000, 30000]\n",
    "\n",
    "# Convert to dataframe\n",
    "data_df = pd.DataFrame({'Country': country, 'Population': population})\n",
    "\n",
    "# Create bar plot\n",
    "sns.barplot(x=\"Country\", y=\"Population\", data=data_df)\n",
    "\n",
    "# Ceate labels and title\n",
    "plt.xlabel('Country')\n",
    "plt.ylabel('Population')\n",
    "plt.title('Bar Plot using Seaborn')\n",
    "\n",
    "# Show plot\n",
    "plt.show()"
   ]
  },
  {
   "cell_type": "code",
   "execution_count": null,
   "metadata": {},
   "outputs": [],
   "source": []
  }
 ],
 "metadata": {
  "kernelspec": {
   "display_name": "base",
   "language": "python",
   "name": "python3"
  },
  "language_info": {
   "codemirror_mode": {
    "name": "ipython",
    "version": 3
   },
   "file_extension": ".py",
   "mimetype": "text/x-python",
   "name": "python",
   "nbconvert_exporter": "python",
   "pygments_lexer": "ipython3",
   "version": "3.12.4"
  }
 },
 "nbformat": 4,
 "nbformat_minor": 2
}
